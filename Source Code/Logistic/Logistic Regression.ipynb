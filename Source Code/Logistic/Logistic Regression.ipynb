{
 "cells": [
  {
   "cell_type": "markdown",
   "metadata": {},
   "source": [
    "## Facial Recognition using Logistic Regression"
   ]
  },
  {
   "cell_type": "markdown",
   "metadata": {},
   "source": [
    "#### <i>Importing scikit, pandas, numpy libraries"
   ]
  },
  {
   "cell_type": "code",
   "execution_count": 1,
   "metadata": {
    "collapsed": true
   },
   "outputs": [],
   "source": [
    "import numpy as np\n",
    "import pandas as pd\n",
    "import matplotlib.pyplot as plt\n",
    "from sklearn.utils import shuffle"
   ]
  },
  {
   "cell_type": "markdown",
   "metadata": {},
   "source": [
    "#### <i> Declaring variables"
   ]
  },
  {
   "cell_type": "code",
   "execution_count": 2,
   "metadata": {
    "collapsed": true
   },
   "outputs": [],
   "source": [
    "features = [] # Features variable contains the list of all pixel intensity values from 0 to 255.\n",
    "labels = [] # Labels variable consists of labels\n",
    "costs = []\n",
    "best_valid_err = 1\n",
    "lr = 10e-8 # learning rate\n",
    "reg = 10e-8 # regularization\n",
    "first = True"
   ]
  },
  {
   "cell_type": "markdown",
   "metadata": {},
   "source": [
    "#### <i> Reading csv file"
   ]
  },
  {
   "cell_type": "code",
   "execution_count": 3,
   "metadata": {
    "collapsed": false
   },
   "outputs": [
    {
     "name": "stdout",
     "output_type": "stream",
     "text": [
      "Wall time: 26.8 s\n"
     ]
    }
   ],
   "source": [
    "%%time\n",
    "for line in open('fer2013.csv'): \n",
    "    if first: # excluding header\n",
    "        first = False\n",
    "    else:\n",
    "        row = line.split(',') # splitting each line by the delimiter\n",
    "        labels.append(int(row[0])) # labels\n",
    "        features.append([int(p) for p in row[1].split()]) # pixels"
   ]
  },
  {
   "cell_type": "code",
   "execution_count": 4,
   "metadata": {
    "collapsed": true
   },
   "outputs": [],
   "source": [
    "features, labels = np.array(features) / 255.0, np.array(labels) # convert to numpy arrays and normalization"
   ]
  },
  {
   "cell_type": "markdown",
   "metadata": {},
   "source": [
    "#### <i>balance the class 1"
   ]
  },
  {
   "cell_type": "code",
   "execution_count": 5,
   "metadata": {
    "collapsed": false
   },
   "outputs": [
    {
     "name": "stdout",
     "output_type": "stream",
     "text": [
      "Wall time: 875 ms\n"
     ]
    }
   ],
   "source": [
    "%%time\n",
    "features0, labels0 = features[labels!=1, :], labels[labels!=1] # take all the data which is not of class 1\n",
    "features1 = features[labels==1, :] # take all the data of class 1\n",
    "features1 = np.repeat(features1, 9, axis=0) #  take the length of class 1 and repeat 9 times\n",
    "features = np.vstack([features0, features1])\n",
    "labels = np.concatenate((labels0, [1]*len(features1)))"
   ]
  },
  {
   "cell_type": "code",
   "execution_count": 6,
   "metadata": {
    "collapsed": true
   },
   "outputs": [],
   "source": [
    "features, labels = shuffle(features, labels) # shuffle the data"
   ]
  },
  {
   "cell_type": "code",
   "execution_count": 7,
   "metadata": {
    "collapsed": false
   },
   "outputs": [
    {
     "name": "stdout",
     "output_type": "stream",
     "text": [
      "Wall time: 0 ns\n"
     ]
    }
   ],
   "source": [
    "%%time\n",
    "featuresvalid, labelsvalid = features[-1000:], labels[-1000:]  # validation sets\n",
    "features, labels = features[:-1000], labels[:-1000]\n",
    "N, D = features.shape # calculating shape"
   ]
  },
  {
   "cell_type": "code",
   "execution_count": 8,
   "metadata": {
    "collapsed": true
   },
   "outputs": [],
   "source": [
    "labels_encoding = np.zeros((len(labels),len(set(labels)))) # matrix of 0's"
   ]
  },
  {
   "cell_type": "code",
   "execution_count": 9,
   "metadata": {
    "collapsed": true
   },
   "outputs": [],
   "source": [
    "for i in range(len(labels)):\n",
    "    labels_encoding[i, labels[i]] = 1 # replacing the 0 matrix values by 1 at position of i and labels[i]\n",
    "T = labels_encoding"
   ]
  },
  {
   "cell_type": "markdown",
   "metadata": {},
   "source": [
    "#### <i>initialize weight of hidden and output layer"
   ]
  },
  {
   "cell_type": "code",
   "execution_count": 10,
   "metadata": {
    "collapsed": true
   },
   "outputs": [],
   "source": [
    "w = np.random.randn(D, len(set(labels))) / np.sqrt(D) # initialize weight\n",
    "b = np.zeros(len(set(labels))) # initialize bias"
   ]
  },
  {
   "cell_type": "code",
   "execution_count": 11,
   "metadata": {
    "collapsed": false
   },
   "outputs": [
    {
     "name": "stdout",
     "output_type": "stream",
     "text": [
      "Iteration i: 0  ||cost_function value : 1.97460605838  ||error Value: 0.854\n",
      "Iteration i: 50  ||cost_function value : 1.91425913921  ||error Value: 0.777\n",
      "Iteration i: 100  ||cost_function value : 1.902277241  ||error Value: 0.773\n",
      "Iteration i: 150  ||cost_function value : 1.8931969469  ||error Value: 0.774\n",
      "Iteration i: 200  ||cost_function value : 1.88572712916  ||error Value: 0.764\n",
      "Iteration i: 250  ||cost_function value : 1.87925507246  ||error Value: 0.756\n",
      "Iteration i: 300  ||cost_function value : 1.87346939085  ||error Value: 0.755\n",
      "Iteration i: 350  ||cost_function value : 1.8681991393  ||error Value: 0.753\n",
      "Iteration i: 400  ||cost_function value : 1.86334223928  ||error Value: 0.752\n",
      "Iteration i: 450  ||cost_function value : 1.85883227106  ||error Value: 0.747\n",
      "Iteration i: 500  ||cost_function value : 1.8546224243  ||error Value: 0.741\n",
      "Iteration i: 550  ||cost_function value : 1.85067741338  ||error Value: 0.741\n",
      "Iteration i: 600  ||cost_function value : 1.84696921984  ||error Value: 0.739\n",
      "Iteration i: 650  ||cost_function value : 1.84347473705  ||error Value: 0.73\n",
      "Iteration i: 700  ||cost_function value : 1.84017439368  ||error Value: 0.725\n",
      "Iteration i: 750  ||cost_function value : 1.83705130037  ||error Value: 0.726\n",
      "Iteration i: 800  ||cost_function value : 1.83409068824  ||error Value: 0.724\n",
      "Iteration i: 850  ||cost_function value : 1.83127951764  ||error Value: 0.721\n",
      "Iteration i: 900  ||cost_function value : 1.82860619172  ||error Value: 0.718\n",
      "Iteration i: 950  ||cost_function value : 1.82606033773  ||error Value: 0.715\n",
      "Iteration i: 1000  ||cost_function value : 1.82363263447  ||error Value: 0.713\n",
      "Iteration i: 1050  ||cost_function value : 1.8213146726  ||error Value: 0.709\n",
      "Iteration i: 1100  ||cost_function value : 1.81909883941  ||error Value: 0.707\n",
      "Iteration i: 1150  ||cost_function value : 1.81697822234  ||error Value: 0.703\n",
      "Iteration i: 1200  ||cost_function value : 1.81494652722  ||error Value: 0.701\n",
      "Iteration i: 1250  ||cost_function value : 1.81299800849  ||error Value: 0.7\n",
      "Iteration i: 1300  ||cost_function value : 1.81112740902  ||error Value: 0.701\n",
      "Iteration i: 1350  ||cost_function value : 1.80932990816  ||error Value: 0.7\n",
      "Iteration i: 1400  ||cost_function value : 1.80760107639  ||error Value: 0.698\n",
      "Iteration i: 1450  ||cost_function value : 1.80593683578  ||error Value: 0.698\n",
      "Iteration i: 1500  ||cost_function value : 1.80433342523  ||error Value: 0.699\n",
      "Iteration i: 1550  ||cost_function value : 1.80278736991  ||error Value: 0.694\n",
      "Iteration i: 1600  ||cost_function value : 1.80129545424  ||error Value: 0.693\n",
      "Iteration i: 1650  ||cost_function value : 1.79985469788  ||error Value: 0.691\n",
      "Iteration i: 1700  ||cost_function value : 1.79846233454  ||error Value: 0.69\n",
      "Iteration i: 1750  ||cost_function value : 1.79711579291  ||error Value: 0.69\n",
      "Iteration i: 1800  ||cost_function value : 1.79581267977  ||error Value: 0.691\n",
      "Iteration i: 1850  ||cost_function value : 1.79455076478  ||error Value: 0.687\n",
      "Iteration i: 1900  ||cost_function value : 1.79332796687  ||error Value: 0.684\n",
      "Iteration i: 1950  ||cost_function value : 1.79214234193  ||error Value: 0.684\n",
      "Iteration i: 2000  ||cost_function value : 1.79099207183  ||error Value: 0.685\n",
      "Iteration i: 2050  ||cost_function value : 1.78987545433  ||error Value: 0.686\n",
      "Iteration i: 2100  ||cost_function value : 1.78879089412  ||error Value: 0.681\n",
      "Iteration i: 2150  ||cost_function value : 1.78773689458  ||error Value: 0.679\n",
      "Iteration i: 2200  ||cost_function value : 1.78671205031  ||error Value: 0.68\n",
      "Iteration i: 2250  ||cost_function value : 1.78571504039  ||error Value: 0.68\n",
      "Iteration i: 2300  ||cost_function value : 1.78474462216  ||error Value: 0.679\n",
      "Iteration i: 2350  ||cost_function value : 1.7837996256  ||error Value: 0.68\n",
      "Iteration i: 2400  ||cost_function value : 1.78287894814  ||error Value: 0.677\n",
      "Iteration i: 2450  ||cost_function value : 1.78198154995  ||error Value: 0.674\n",
      "Iteration i: 2500  ||cost_function value : 1.78110644962  ||error Value: 0.675\n",
      "Iteration i: 2550  ||cost_function value : 1.78025272014  ||error Value: 0.674\n",
      "Iteration i: 2600  ||cost_function value : 1.77941948527  ||error Value: 0.672\n",
      "Iteration i: 2650  ||cost_function value : 1.77860591615  ||error Value: 0.669\n",
      "Iteration i: 2700  ||cost_function value : 1.77781122822  ||error Value: 0.668\n",
      "Iteration i: 2750  ||cost_function value : 1.77703467831  ||error Value: 0.667\n",
      "Iteration i: 2800  ||cost_function value : 1.77627556204  ||error Value: 0.667\n",
      "Iteration i: 2850  ||cost_function value : 1.77553321134  ||error Value: 0.666\n",
      "Iteration i: 2900  ||cost_function value : 1.77480699218  ||error Value: 0.666\n",
      "Iteration i: 2950  ||cost_function value : 1.77409630249  ||error Value: 0.666\n",
      "Iteration i: 3000  ||cost_function value : 1.77340057019  ||error Value: 0.665\n",
      "Iteration i: 3050  ||cost_function value : 1.7727192514  ||error Value: 0.664\n",
      "Iteration i: 3100  ||cost_function value : 1.77205182872  ||error Value: 0.663\n",
      "Iteration i: 3150  ||cost_function value : 1.77139780972  ||error Value: 0.66\n",
      "Iteration i: 3200  ||cost_function value : 1.77075672542  ||error Value: 0.659\n",
      "Iteration i: 3250  ||cost_function value : 1.77012812898  ||error Value: 0.659\n",
      "Iteration i: 3300  ||cost_function value : 1.76951159443  ||error Value: 0.658\n",
      "Iteration i: 3350  ||cost_function value : 1.76890671544  ||error Value: 0.658\n",
      "Iteration i: 3400  ||cost_function value : 1.76831310428  ||error Value: 0.658\n",
      "Iteration i: 3450  ||cost_function value : 1.76773039076  ||error Value: 0.659\n",
      "Iteration i: 3500  ||cost_function value : 1.76715822124  ||error Value: 0.658\n",
      "Iteration i: 3550  ||cost_function value : 1.76659625778  ||error Value: 0.659\n",
      "Iteration i: 3600  ||cost_function value : 1.76604417724  ||error Value: 0.659\n",
      "Iteration i: 3650  ||cost_function value : 1.76550167053  ||error Value: 0.659\n",
      "Iteration i: 3700  ||cost_function value : 1.76496844183  ||error Value: 0.66\n",
      "Iteration i: 3750  ||cost_function value : 1.76444420793  ||error Value: 0.66\n",
      "Iteration i: 3800  ||cost_function value : 1.76392869755  ||error Value: 0.66\n",
      "Iteration i: 3850  ||cost_function value : 1.76342165071  ||error Value: 0.661\n",
      "Iteration i: 3900  ||cost_function value : 1.7629228182  ||error Value: 0.66\n",
      "Iteration i: 3950  ||cost_function value : 1.76243196097  ||error Value: 0.661\n",
      "Iteration i: 4000  ||cost_function value : 1.76194884969  ||error Value: 0.661\n",
      "Iteration i: 4050  ||cost_function value : 1.76147326421  ||error Value: 0.661\n",
      "Iteration i: 4100  ||cost_function value : 1.76100499312  ||error Value: 0.662\n",
      "Iteration i: 4150  ||cost_function value : 1.76054383335  ||error Value: 0.662\n",
      "Iteration i: 4200  ||cost_function value : 1.76008958971  ||error Value: 0.661\n",
      "Iteration i: 4250  ||cost_function value : 1.75964207458  ||error Value: 0.661\n",
      "Iteration i: 4300  ||cost_function value : 1.75920110748  ||error Value: 0.661\n",
      "Iteration i: 4350  ||cost_function value : 1.75876651479  ||error Value: 0.661\n",
      "Iteration i: 4400  ||cost_function value : 1.75833812937  ||error Value: 0.661\n",
      "Iteration i: 4450  ||cost_function value : 1.75791579031  ||error Value: 0.662\n",
      "Iteration i: 4500  ||cost_function value : 1.75749934261  ||error Value: 0.662\n",
      "Iteration i: 4550  ||cost_function value : 1.75708863692  ||error Value: 0.663\n",
      "Iteration i: 4600  ||cost_function value : 1.75668352928  ||error Value: 0.663\n",
      "Iteration i: 4650  ||cost_function value : 1.75628388089  ||error Value: 0.663\n",
      "Iteration i: 4700  ||cost_function value : 1.75588955784  ||error Value: 0.663\n",
      "Iteration i: 4750  ||cost_function value : 1.75550043093  ||error Value: 0.663\n",
      "Iteration i: 4800  ||cost_function value : 1.75511637547  ||error Value: 0.663\n",
      "Iteration i: 4850  ||cost_function value : 1.75473727104  ||error Value: 0.662\n",
      "Iteration i: 4900  ||cost_function value : 1.75436300133  ||error Value: 0.662\n",
      "Iteration i: 4950  ||cost_function value : 1.75399345398  ||error Value: 0.661\n",
      "Iteration i: 5000  ||cost_function value : 1.75362852036  ||error Value: 0.66\n",
      "Iteration i: 5050  ||cost_function value : 1.75326809547  ||error Value: 0.659\n",
      "Iteration i: 5100  ||cost_function value : 1.75291207775  ||error Value: 0.659\n",
      "Iteration i: 5150  ||cost_function value : 1.75256036895  ||error Value: 0.659\n",
      "Iteration i: 5200  ||cost_function value : 1.75221287399  ||error Value: 0.659\n",
      "Iteration i: 5250  ||cost_function value : 1.75186950083  ||error Value: 0.658\n",
      "Iteration i: 5300  ||cost_function value : 1.75153016033  ||error Value: 0.659\n",
      "Iteration i: 5350  ||cost_function value : 1.75119476617  ||error Value: 0.659\n",
      "Iteration i: 5400  ||cost_function value : 1.75086323471  ||error Value: 0.658\n",
      "Iteration i: 5450  ||cost_function value : 1.75053548487  ||error Value: 0.658\n",
      "Iteration i: 5500  ||cost_function value : 1.75021143806  ||error Value: 0.657\n",
      "Iteration i: 5550  ||cost_function value : 1.74989101806  ||error Value: 0.657\n",
      "Iteration i: 5600  ||cost_function value : 1.74957415095  ||error Value: 0.657\n",
      "Iteration i: 5650  ||cost_function value : 1.74926076499  ||error Value: 0.657\n",
      "Iteration i: 5700  ||cost_function value : 1.74895079057  ||error Value: 0.657\n",
      "Iteration i: 5750  ||cost_function value : 1.74864416008  ||error Value: 0.657\n",
      "Iteration i: 5800  ||cost_function value : 1.7483408079  ||error Value: 0.657\n",
      "Iteration i: 5850  ||cost_function value : 1.74804067028  ||error Value: 0.656\n",
      "Iteration i: 5900  ||cost_function value : 1.74774368526  ||error Value: 0.656\n",
      "Iteration i: 5950  ||cost_function value : 1.74744979267  ||error Value: 0.654\n",
      "Iteration i: 6000  ||cost_function value : 1.74715893397  ||error Value: 0.654\n",
      "Iteration i: 6050  ||cost_function value : 1.74687105227  ||error Value: 0.654\n",
      "Iteration i: 6100  ||cost_function value : 1.74658609223  ||error Value: 0.655\n",
      "Iteration i: 6150  ||cost_function value : 1.74630400002  ||error Value: 0.654\n",
      "Iteration i: 6200  ||cost_function value : 1.74602472326  ||error Value: 0.651\n",
      "Iteration i: 6250  ||cost_function value : 1.74574821096  ||error Value: 0.651\n",
      "Iteration i: 6300  ||cost_function value : 1.7454744135  ||error Value: 0.651\n",
      "Iteration i: 6350  ||cost_function value : 1.74520328254  ||error Value: 0.651\n",
      "Iteration i: 6400  ||cost_function value : 1.74493477101  ||error Value: 0.651\n",
      "Iteration i: 6450  ||cost_function value : 1.74466883306  ||error Value: 0.651\n",
      "Iteration i: 6500  ||cost_function value : 1.74440542401  ||error Value: 0.653\n",
      "Iteration i: 6550  ||cost_function value : 1.74414450031  ||error Value: 0.654\n",
      "Iteration i: 6600  ||cost_function value : 1.74388601951  ||error Value: 0.654\n",
      "Iteration i: 6650  ||cost_function value : 1.74362994022  ||error Value: 0.654\n",
      "Iteration i: 6700  ||cost_function value : 1.74337622208  ||error Value: 0.653\n",
      "Iteration i: 6750  ||cost_function value : 1.7431248257  ||error Value: 0.653\n",
      "Iteration i: 6800  ||cost_function value : 1.74287571267  ||error Value: 0.653\n",
      "Iteration i: 6850  ||cost_function value : 1.74262884551  ||error Value: 0.654\n",
      "Iteration i: 6900  ||cost_function value : 1.74238418762  ||error Value: 0.654\n",
      "Iteration i: 6950  ||cost_function value : 1.74214170328  ||error Value: 0.654\n",
      "Iteration i: 7000  ||cost_function value : 1.74190135761  ||error Value: 0.654\n",
      "Iteration i: 7050  ||cost_function value : 1.74166311656  ||error Value: 0.653\n",
      "Iteration i: 7100  ||cost_function value : 1.74142694684  ||error Value: 0.652\n",
      "Iteration i: 7150  ||cost_function value : 1.74119281595  ||error Value: 0.651\n",
      "Iteration i: 7200  ||cost_function value : 1.74096069212  ||error Value: 0.651\n",
      "Iteration i: 7250  ||cost_function value : 1.74073054432  ||error Value: 0.651\n",
      "Iteration i: 7300  ||cost_function value : 1.74050234218  ||error Value: 0.651\n",
      "Iteration i: 7350  ||cost_function value : 1.74027605605  ||error Value: 0.651\n",
      "Iteration i: 7400  ||cost_function value : 1.74005165691  ||error Value: 0.652\n",
      "Iteration i: 7450  ||cost_function value : 1.73982911638  ||error Value: 0.653\n",
      "Iteration i: 7500  ||cost_function value : 1.73960840671  ||error Value: 0.652\n",
      "Iteration i: 7550  ||cost_function value : 1.73938950075  ||error Value: 0.652\n",
      "Iteration i: 7600  ||cost_function value : 1.73917237191  ||error Value: 0.652\n",
      "Iteration i: 7650  ||cost_function value : 1.73895699419  ||error Value: 0.652\n",
      "Iteration i: 7700  ||cost_function value : 1.73874334214  ||error Value: 0.652\n",
      "Iteration i: 7750  ||cost_function value : 1.73853139083  ||error Value: 0.652\n",
      "Iteration i: 7800  ||cost_function value : 1.73832111587  ||error Value: 0.652\n",
      "Iteration i: 7850  ||cost_function value : 1.73811249337  ||error Value: 0.652\n",
      "Iteration i: 7900  ||cost_function value : 1.7379054999  ||error Value: 0.652\n",
      "Iteration i: 7950  ||cost_function value : 1.73770011256  ||error Value: 0.654\n",
      "Iteration i: 8000  ||cost_function value : 1.73749630888  ||error Value: 0.653\n",
      "Iteration i: 8050  ||cost_function value : 1.73729406684  ||error Value: 0.653\n",
      "Iteration i: 8100  ||cost_function value : 1.73709336489  ||error Value: 0.653\n",
      "Iteration i: 8150  ||cost_function value : 1.73689418188  ||error Value: 0.653\n",
      "Iteration i: 8200  ||cost_function value : 1.73669649708  ||error Value: 0.653\n",
      "Iteration i: 8250  ||cost_function value : 1.73650029018  ||error Value: 0.653\n",
      "Iteration i: 8300  ||cost_function value : 1.73630554126  ||error Value: 0.653\n",
      "Iteration i: 8350  ||cost_function value : 1.73611223077  ||error Value: 0.654\n",
      "Iteration i: 8400  ||cost_function value : 1.73592033956  ||error Value: 0.654\n",
      "Iteration i: 8450  ||cost_function value : 1.73572984883  ||error Value: 0.654\n",
      "Iteration i: 8500  ||cost_function value : 1.73554074014  ||error Value: 0.655\n",
      "Iteration i: 8550  ||cost_function value : 1.73535299539  ||error Value: 0.655\n",
      "Iteration i: 8600  ||cost_function value : 1.73516659683  ||error Value: 0.655\n",
      "Iteration i: 8650  ||cost_function value : 1.73498152703  ||error Value: 0.656\n",
      "Iteration i: 8700  ||cost_function value : 1.73479776889  ||error Value: 0.656\n",
      "Iteration i: 8750  ||cost_function value : 1.73461530563  ||error Value: 0.655\n",
      "Iteration i: 8800  ||cost_function value : 1.73443412075  ||error Value: 0.655\n",
      "Iteration i: 8850  ||cost_function value : 1.73425419807  ||error Value: 0.655\n",
      "Iteration i: 8900  ||cost_function value : 1.7340755217  ||error Value: 0.655\n",
      "Iteration i: 8950  ||cost_function value : 1.73389807603  ||error Value: 0.655\n",
      "Iteration i: 9000  ||cost_function value : 1.73372184574  ||error Value: 0.655\n",
      "Iteration i: 9050  ||cost_function value : 1.73354681575  ||error Value: 0.655\n",
      "Iteration i: 9100  ||cost_function value : 1.73337297129  ||error Value: 0.655\n",
      "Iteration i: 9150  ||cost_function value : 1.7332002978  ||error Value: 0.657\n",
      "Iteration i: 9200  ||cost_function value : 1.73302878101  ||error Value: 0.656\n",
      "Iteration i: 9250  ||cost_function value : 1.73285840689  ||error Value: 0.656\n",
      "Iteration i: 9300  ||cost_function value : 1.73268916163  ||error Value: 0.656\n",
      "Iteration i: 9350  ||cost_function value : 1.73252103167  ||error Value: 0.656\n",
      "Iteration i: 9400  ||cost_function value : 1.7323540037  ||error Value: 0.656\n",
      "Iteration i: 9450  ||cost_function value : 1.7321880646  ||error Value: 0.656\n",
      "Iteration i: 9500  ||cost_function value : 1.73202320149  ||error Value: 0.656\n",
      "Iteration i: 9550  ||cost_function value : 1.7318594017  ||error Value: 0.656\n",
      "Iteration i: 9600  ||cost_function value : 1.73169665278  ||error Value: 0.656\n",
      "Iteration i: 9650  ||cost_function value : 1.73153494247  ||error Value: 0.657\n",
      "Iteration i: 9700  ||cost_function value : 1.73137425872  ||error Value: 0.658\n",
      "Iteration i: 9750  ||cost_function value : 1.73121458968  ||error Value: 0.658\n",
      "Iteration i: 9800  ||cost_function value : 1.73105592369  ||error Value: 0.658\n",
      "Iteration i: 9850  ||cost_function value : 1.73089824927  ||error Value: 0.658\n",
      "Iteration i: 9900  ||cost_function value : 1.73074155514  ||error Value: 0.657\n",
      "Iteration i: 9950  ||cost_function value : 1.73058583019  ||error Value: 0.657\n",
      "best_valid_err: 0.651\n",
      "Wall time: 55min 22s\n"
     ]
    }
   ],
   "source": [
    "%%time\n",
    "for i in range(len(labels)):\n",
    "    labels_encoding[i, labels[i]] = 1 # replacing the 0 matrix values by 1 at position of i and labels[i]\n",
    "T = labels_encoding\n",
    "w = np.random.randn(D, len(set(labels))) / np.sqrt(D) # initialize weight\n",
    "b = np.zeros(len(set(labels))) # initialize bias\n",
    "for i in range(10000):\n",
    "    l = features.dot(w)+b # Forward propagation\n",
    "    f = np.exp(l)/ np.exp(l).sum(axis=1,keepdims=True) # softmax activation function\n",
    "    err = f - T # error in forward propagation\n",
    "    w = w - lr*(features.T.dot(err) + reg*w) # update weight\n",
    "    b = b - lr*(err.sum(axis=0)+reg*b) # update bias\n",
    "    if i % 50 == 0: \n",
    "        l = featuresvalid.dot(w)+b # Forward propagation of validation set\n",
    "        f = np.exp(l)/ np.exp(l).sum(axis=1,keepdims=True) # softmax activation function of validation set\n",
    "        costResult = -np.log(f[np.arange(len(labelsvalid)), labelsvalid]).mean() # loss function using cross entropy\n",
    "        costs.append(costResult) # appending costs\n",
    "        predicted = np.argmax(f, axis=1) # predicted output\n",
    "        error = 1 - np.mean(labelsvalid == predicted) # calculating error\n",
    "        print(\"Iteration i:\", i, \" ||cost_function value :\", costResult, \" ||error Value:\", error)\n",
    "        if error < best_valid_err:\n",
    "                    best_valid_err = error\n",
    "print(\"best_valid_err:\", best_valid_err) # printing best validation error"
   ]
  },
  {
   "cell_type": "code",
   "execution_count": 12,
   "metadata": {
    "collapsed": false
   },
   "outputs": [
    {
     "data": {
      "image/png": "[encoded data removed]",
      "text/plain": [
       "<matplotlib.figure.Figure at 0x20474b13898>"
      ]
     },
     "metadata": {},
     "output_type": "display_data"
    }
   ],
   "source": [
    "plt.plot(costs) # plotting costs\n",
    "plt.show()"
   ]
  },
  {
   "cell_type": "code",
   "execution_count": 13,
   "metadata": {
    "collapsed": false
   },
   "outputs": [
    {
     "name": "stdout",
     "output_type": "stream",
     "text": [
      "             precision    recall  f1-score   support\n",
      "\n",
      "          0       0.15      0.04      0.07       113\n",
      "          1       0.39      0.40      0.40       129\n",
      "          2       0.24      0.07      0.10       137\n",
      "          3       0.38      0.68      0.49       222\n",
      "          4       0.24      0.19      0.21       156\n",
      "          5       0.45      0.47      0.46        97\n",
      "          6       0.29      0.34      0.31       146\n",
      "\n",
      "avg / total       0.31      0.34      0.31      1000\n",
      "\n"
     ]
    }
   ],
   "source": [
    "from sklearn.metrics import classification_report\n",
    "print(classification_report(labelsvalid, predicted))"
   ]
  }
 ],
 "metadata": {
  "kernelspec": {
   "display_name": "Python 3",
   "language": "python",
   "name": "python3"
  },
  "language_info": {
   "codemirror_mode": {
    "name": "ipython",
    "version": 3
   },
   "file_extension": ".py",
   "mimetype": "text/x-python",
   "name": "python",
   "nbconvert_exporter": "python",
   "pygments_lexer": "ipython3",
   "version": "3.6.3"
  }
 },
 "nbformat": 4,
 "nbformat_minor": 2
}
