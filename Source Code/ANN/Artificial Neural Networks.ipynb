{
 "cells": [
  {
   "cell_type": "markdown",
   "metadata": {
    "collapsed": true
   },
   "source": [
    "## Facial Recognition using Artificial Neural Networks"
   ]
  },
  {
   "cell_type": "markdown",
   "metadata": {
    "collapsed": true
   },
   "source": [
    "#### <i>Importing scikit, pandas, numpy libraries"
   ]
  },
  {
   "cell_type": "code",
   "execution_count": 1,
   "metadata": {
    "collapsed": true
   },
   "outputs": [],
   "source": [
    "import numpy as np\n",
    "import pandas as pd\n",
    "import matplotlib.pyplot as plt\n",
    "from sklearn.utils import shuffle"
   ]
  },
  {
   "cell_type": "markdown",
   "metadata": {},
   "source": [
    "#### <i> Declaring variables"
   ]
  },
  {
   "cell_type": "code",
   "execution_count": 2,
   "metadata": {
    "collapsed": true
   },
   "outputs": [],
   "source": [
    "features = [] # Features variable contains the list of all pixel intensity values from 0 to 255.\n",
    "labels = [] # Labels variable consists of labels\n",
    "costs = []\n",
    "best_valid_err = 1\n",
    "lr = 10e-8 # learning rate\n",
    "reg = 10e-8 # regularization\n",
    "first = True"
   ]
  },
  {
   "cell_type": "markdown",
   "metadata": {},
   "source": [
    "#### <i> Reading csv file"
   ]
  },
  {
   "cell_type": "code",
   "execution_count": 3,
   "metadata": {
    "collapsed": false
   },
   "outputs": [
    {
     "name": "stdout",
     "output_type": "stream",
     "text": [
      "Wall time: 30.3 s\n"
     ]
    }
   ],
   "source": [
    "%%time\n",
    "for line in open('fer2013.csv'): \n",
    "    if first: # excluding header\n",
    "        first = False\n",
    "    else:\n",
    "        row = line.split(',') # splitting each line by the delimiter\n",
    "        labels.append(int(row[0])) # labels\n",
    "        features.append([int(p) for p in row[1].split()]) # pixels"
   ]
  },
  {
   "cell_type": "code",
   "execution_count": 4,
   "metadata": {
    "collapsed": true
   },
   "outputs": [],
   "source": [
    "features, labels = np.array(features) / 255.0, np.array(labels) # convert to numpy arrays and normalization"
   ]
  },
  {
   "cell_type": "markdown",
   "metadata": {},
   "source": [
    "#### <i>balance the class 1"
   ]
  },
  {
   "cell_type": "code",
   "execution_count": 5,
   "metadata": {
    "collapsed": false
   },
   "outputs": [
    {
     "name": "stdout",
     "output_type": "stream",
     "text": [
      "Wall time: 1.61 s\n"
     ]
    }
   ],
   "source": [
    "%%time\n",
    "features0, labels0 = features[labels!=1, :], labels[labels!=1] # take all the data which is not of class 1\n",
    "features1 = features[labels==1, :] # take all the data of class 1\n",
    "features1 = np.repeat(features1, 9, axis=0) #  take the length of class 1 and repeat 9 times\n",
    "features = np.vstack([features0, features1])\n",
    "labels = np.concatenate((labels0, [1]*len(features1)))"
   ]
  },
  {
   "cell_type": "code",
   "execution_count": 6,
   "metadata": {
    "collapsed": true
   },
   "outputs": [],
   "source": [
    "features, labels = shuffle(features, labels) # shuffle the data"
   ]
  },
  {
   "cell_type": "code",
   "execution_count": 7,
   "metadata": {
    "collapsed": false
   },
   "outputs": [
    {
     "name": "stdout",
     "output_type": "stream",
     "text": [
      "Wall time: 0 ns\n"
     ]
    }
   ],
   "source": [
    "%%time\n",
    "featuresvalid, labelsvalid = features[-1000:], labels[-1000:]  # validation sets\n",
    "features, labels = features[:-1000], labels[:-1000]\n",
    "N, D = features.shape # calculating shape"
   ]
  },
  {
   "cell_type": "code",
   "execution_count": 8,
   "metadata": {
    "collapsed": true
   },
   "outputs": [],
   "source": [
    "labels_encoding = np.zeros((len(labels),len(set(labels)))) # matrix of 0's"
   ]
  },
  {
   "cell_type": "code",
   "execution_count": 9,
   "metadata": {
    "collapsed": false
   },
   "outputs": [
    {
     "name": "stdout",
     "output_type": "stream",
     "text": [
      "Wall time: 19.6 ms\n"
     ]
    }
   ],
   "source": [
    "%%time\n",
    "for i in range(len(labels)):\n",
    "    labels_encoding[i, labels[i]] = 1 # replacing the 0 matrix values by 1 at position of i and labels[i]\n",
    "T = labels_encoding"
   ]
  },
  {
   "cell_type": "markdown",
   "metadata": {},
   "source": [
    "#### <i>initialize weight of hidden and output layer"
   ]
  },
  {
   "cell_type": "code",
   "execution_count": 10,
   "metadata": {
    "collapsed": true
   },
   "outputs": [],
   "source": [
    "W1 = np.random.randn(D, 200) / np.sqrt(D)\n",
    "W2 = np.random.randn(200, len(set(labels))) / np.sqrt(200)"
   ]
  },
  {
   "cell_type": "markdown",
   "metadata": {},
   "source": [
    "#### <i>initialize bias to zero"
   ]
  },
  {
   "cell_type": "code",
   "execution_count": 11,
   "metadata": {
    "collapsed": true
   },
   "outputs": [],
   "source": [
    "b1 = np.zeros(200)\n",
    "b2 = np.zeros(len(set(labels)))"
   ]
  },
  {
   "cell_type": "markdown",
   "metadata": {},
   "source": [
    "#### <i> Running epoch for 10000 times"
   ]
  },
  {
   "cell_type": "code",
   "execution_count": 12,
   "metadata": {
    "collapsed": false
   },
   "outputs": [
    {
     "name": "stdout",
     "output_type": "stream",
     "text": [
      "Iteration i: 0  ||cost_function value : 1.98927556833  ||error Value: 0.881\n",
      "Iteration i: 100  ||cost_function value : 1.8950878016  ||error Value: 0.779\n",
      "Iteration i: 200  ||cost_function value : 1.87046118917  ||error Value: 0.769\n",
      "Iteration i: 300  ||cost_function value : 1.85206571422  ||error Value: 0.761\n",
      "Iteration i: 400  ||cost_function value : 1.83723952549  ||error Value: 0.74\n",
      "Iteration i: 500  ||cost_function value : 1.82468911923  ||error Value: 0.726\n",
      "Iteration i: 600  ||cost_function value : 1.81371670133  ||error Value: 0.711\n",
      "Iteration i: 700  ||cost_function value : 1.80391635636  ||error Value: 0.7\n",
      "Iteration i: 800  ||cost_function value : 1.79504424423  ||error Value: 0.696\n",
      "Iteration i: 900  ||cost_function value : 1.78694182659  ||error Value: 0.689\n",
      "Iteration i: 1000  ||cost_function value : 1.7794954297  ||error Value: 0.679\n",
      "Iteration i: 1100  ||cost_function value : 1.77261435303  ||error Value: 0.673\n",
      "Iteration i: 1200  ||cost_function value : 1.76622345353  ||error Value: 0.663\n",
      "Iteration i: 1300  ||cost_function value : 1.76026254314  ||error Value: 0.656\n",
      "Iteration i: 1400  ||cost_function value : 1.75468403429  ||error Value: 0.653\n",
      "Iteration i: 1500  ||cost_function value : 1.74944953964  ||error Value: 0.649\n",
      "Iteration i: 1600  ||cost_function value : 1.74452773699  ||error Value: 0.643\n",
      "Iteration i: 1700  ||cost_function value : 1.73989370843  ||error Value: 0.636\n",
      "Iteration i: 1800  ||cost_function value : 1.73552839692  ||error Value: 0.637\n",
      "Iteration i: 1900  ||cost_function value : 1.73141669833  ||error Value: 0.636\n",
      "Iteration i: 2000  ||cost_function value : 1.72754446084  ||error Value: 0.637\n",
      "Iteration i: 2100  ||cost_function value : 1.72389638187  ||error Value: 0.634\n",
      "Iteration i: 2200  ||cost_function value : 1.72045593728  ||error Value: 0.634\n",
      "Iteration i: 2300  ||cost_function value : 1.71720650009  ||error Value: 0.627\n",
      "Iteration i: 2400  ||cost_function value : 1.71413238145  ||error Value: 0.627\n",
      "Iteration i: 2500  ||cost_function value : 1.71121931318  ||error Value: 0.628\n",
      "Iteration i: 2600  ||cost_function value : 1.70845449531  ||error Value: 0.627\n",
      "Iteration i: 2700  ||cost_function value : 1.70582644698  ||error Value: 0.628\n",
      "Iteration i: 2800  ||cost_function value : 1.70332481238  ||error Value: 0.632\n",
      "Iteration i: 2900  ||cost_function value : 1.70094018482  ||error Value: 0.633\n",
      "Iteration i: 3000  ||cost_function value : 1.69866396489  ||error Value: 0.631\n",
      "Iteration i: 3100  ||cost_function value : 1.69648825105  ||error Value: 0.627\n",
      "Iteration i: 3200  ||cost_function value : 1.69440575645  ||error Value: 0.627\n",
      "Iteration i: 3300  ||cost_function value : 1.69240974588  ||error Value: 0.627\n",
      "Iteration i: 3400  ||cost_function value : 1.69049398774  ||error Value: 0.626\n",
      "Iteration i: 3500  ||cost_function value : 1.68865271665  ||error Value: 0.624\n",
      "Iteration i: 3600  ||cost_function value : 1.68688060324  ||error Value: 0.621\n",
      "Iteration i: 3700  ||cost_function value : 1.68517272817  ||error Value: 0.622\n",
      "Iteration i: 3800  ||cost_function value : 1.68352455815  ||error Value: 0.62\n",
      "Iteration i: 3900  ||cost_function value : 1.6819319228  ||error Value: 0.618\n",
      "Iteration i: 4000  ||cost_function value : 1.68039099146  ||error Value: 0.619\n",
      "Iteration i: 4100  ||cost_function value : 1.67889824985  ||error Value: 0.62\n",
      "Iteration i: 4200  ||cost_function value : 1.67745047689  ||error Value: 0.619\n",
      "Iteration i: 4300  ||cost_function value : 1.67604472172  ||error Value: 0.615\n",
      "Iteration i: 4400  ||cost_function value : 1.67467828153  ||error Value: 0.613\n",
      "Iteration i: 4500  ||cost_function value : 1.67334868044  ||error Value: 0.61\n",
      "Iteration i: 4600  ||cost_function value : 1.6720536495  ||error Value: 0.607\n",
      "Iteration i: 4700  ||cost_function value : 1.67079110824  ||error Value: 0.607\n",
      "Iteration i: 4800  ||cost_function value : 1.66955914754  ||error Value: 0.607\n",
      "Iteration i: 4900  ||cost_function value : 1.668356014  ||error Value: 0.607\n",
      "Iteration i: 5000  ||cost_function value : 1.66718009572  ||error Value: 0.606\n",
      "Iteration i: 5100  ||cost_function value : 1.6660299093  ||error Value: 0.606\n",
      "Iteration i: 5200  ||cost_function value : 1.66490408817  ||error Value: 0.605\n",
      "Iteration i: 5300  ||cost_function value : 1.66380137183  ||error Value: 0.603\n",
      "Iteration i: 5400  ||cost_function value : 1.66272059624  ||error Value: 0.603\n",
      "Iteration i: 5500  ||cost_function value : 1.66166068498  ||error Value: 0.604\n",
      "Iteration i: 5600  ||cost_function value : 1.66062064116  ||error Value: 0.603\n",
      "Iteration i: 5700  ||cost_function value : 1.65959954011  ||error Value: 0.602\n",
      "Iteration i: 5800  ||cost_function value : 1.65859652259  ||error Value: 0.601\n",
      "Iteration i: 5900  ||cost_function value : 1.65761078868  ||error Value: 0.601\n",
      "Iteration i: 6000  ||cost_function value : 1.65664159207  ||error Value: 0.6\n",
      "Iteration i: 6100  ||cost_function value : 1.65568823498  ||error Value: 0.6\n",
      "Iteration i: 6200  ||cost_function value : 1.65475006348  ||error Value: 0.599\n",
      "Iteration i: 6300  ||cost_function value : 1.65382646333  ||error Value: 0.596\n",
      "Iteration i: 6400  ||cost_function value : 1.65291685624  ||error Value: 0.596\n",
      "Iteration i: 6500  ||cost_function value : 1.65202069655  ||error Value: 0.598\n",
      "Iteration i: 6600  ||cost_function value : 1.65113746838  ||error Value: 0.598\n",
      "Iteration i: 6700  ||cost_function value : 1.65026668306  ||error Value: 0.596\n",
      "Iteration i: 6800  ||cost_function value : 1.64940787698  ||error Value: 0.595\n",
      "Iteration i: 6900  ||cost_function value : 1.64856060969  ||error Value: 0.595\n",
      "Iteration i: 7000  ||cost_function value : 1.64772446226  ||error Value: 0.596\n",
      "Iteration i: 7100  ||cost_function value : 1.64689903585  ||error Value: 0.595\n",
      "Iteration i: 7200  ||cost_function value : 1.64608395052  ||error Value: 0.595\n",
      "Iteration i: 7300  ||cost_function value : 1.64527884405  ||error Value: 0.595\n",
      "Iteration i: 7400  ||cost_function value : 1.64448337101  ||error Value: 0.596\n",
      "Iteration i: 7500  ||cost_function value : 1.64369720184  ||error Value: 0.595\n",
      "Iteration i: 7600  ||cost_function value : 1.64292002204  ||error Value: 0.595\n",
      "Iteration i: 7700  ||cost_function value : 1.64215153143  ||error Value: 0.595\n",
      "Iteration i: 7800  ||cost_function value : 1.64139144341  ||error Value: 0.595\n",
      "Iteration i: 7900  ||cost_function value : 1.64063948432  ||error Value: 0.596\n",
      "Iteration i: 8000  ||cost_function value : 1.6398953928  ||error Value: 0.595\n",
      "Iteration i: 8100  ||cost_function value : 1.63915891919  ||error Value: 0.594\n",
      "Iteration i: 8200  ||cost_function value : 1.638429825  ||error Value: 0.594\n",
      "Iteration i: 8300  ||cost_function value : 1.63770788232  ||error Value: 0.594\n",
      "Iteration i: 8400  ||cost_function value : 1.63699287332  ||error Value: 0.593\n",
      "Iteration i: 8500  ||cost_function value : 1.63628458976  ||error Value: 0.593\n",
      "Iteration i: 8600  ||cost_function value : 1.63558283253  ||error Value: 0.594\n",
      "Iteration i: 8700  ||cost_function value : 1.63488741114  ||error Value: 0.594\n",
      "Iteration i: 8800  ||cost_function value : 1.63419814337  ||error Value: 0.593\n",
      "Iteration i: 8900  ||cost_function value : 1.63351485476  ||error Value: 0.594\n",
      "Iteration i: 9000  ||cost_function value : 1.63283737831  ||error Value: 0.595\n",
      "Iteration i: 9100  ||cost_function value : 1.63216555401  ||error Value: 0.594\n",
      "Iteration i: 9200  ||cost_function value : 1.63149922857  ||error Value: 0.594\n",
      "Iteration i: 9300  ||cost_function value : 1.63083825499  ||error Value: 0.594\n",
      "Iteration i: 9400  ||cost_function value : 1.63018249232  ||error Value: 0.593\n",
      "Iteration i: 9500  ||cost_function value : 1.62953180527  ||error Value: 0.592\n",
      "Iteration i: 9600  ||cost_function value : 1.62888606397  ||error Value: 0.592\n",
      "Iteration i: 9700  ||cost_function value : 1.62824514365  ||error Value: 0.592\n",
      "Iteration i: 9800  ||cost_function value : 1.62760892439  ||error Value: 0.591\n",
      "Iteration i: 9900  ||cost_function value : 1.62697729085  ||error Value: 0.591\n",
      "best_valid_err: 0.591\n",
      "Wall time: 6h 2min 25s\n"
     ]
    }
   ],
   "source": [
    "%%time\n",
    "for i in range(10000):\n",
    "    Z = np.tanh(features.dot(W1) + b1) # Forward propagation\n",
    "    l = Z.dot(W2)+b2 # last layer results\n",
    "    f = np.exp(l)/ np.exp(l).sum(axis=1,keepdims=True) # softmax activation function\n",
    "    err = f - T # error in forward propagation\n",
    "    \n",
    "    # backward propagation using chain rule\n",
    "    W2 = W2 - lr*(Z.T.dot(err)+reg*W2)\n",
    "    b2 = b2 - lr*(err.sum(axis=0)+reg*b2)\n",
    "    dZ = err.dot(W2.T) * (1 - Z*Z) # activation function using tanh\n",
    "    W1 = W1 - lr*(features.T.dot(dZ) + reg*W1) # update weight\n",
    "    b1 = b1 - lr*(dZ.sum(axis=0) + reg*b1) # update bias\n",
    "    \n",
    "    if i % 100 == 0:\n",
    "        Z = np.tanh(featuresvalid.dot(W1) + b1) # Forward propagation of valid set\n",
    "        l = Z.dot(W2)+b2 # last layer results\n",
    "        f = np.exp(l)/ np.exp(l).sum(axis=1,keepdims=True) # softmax activation function\n",
    "        costResult = -np.log(f[np.arange(len(labelsvalid)), labelsvalid]).mean() # loss function using cross entropy\n",
    "        costs.append(costResult) # appending costs\n",
    "        predicted = np.argmax(f, axis=1) # predicted output\n",
    "        error = 1 - np.mean(labelsvalid == predicted) \n",
    "        print(\"Iteration i:\", i, \" ||cost_function value :\", costResult, \" ||error Value:\", error)\n",
    "        if error < best_valid_err:\n",
    "                    best_valid_err = error\n",
    "print(\"best_valid_err:\", best_valid_err) # printing best validation error\n"
   ]
  },
  {
   "cell_type": "code",
   "execution_count": 13,
   "metadata": {
    "collapsed": false
   },
   "outputs": [
    {
     "data": {
      "image/png": "[encoded data removed]",
      "text/plain": [
       "<matplotlib.figure.Figure at 0x24e8de9dc88>"
      ]
     },
     "metadata": {},
     "output_type": "display_data"
    }
   ],
   "source": [
    "plt.plot(costs) # plotting costs\n",
    "plt.show()"
   ]
  },
  {
   "cell_type": "code",
   "execution_count": 14,
   "metadata": {
    "collapsed": false
   },
   "outputs": [
    {
     "name": "stdout",
     "output_type": "stream",
     "text": [
      "             precision    recall  f1-score   support\n",
      "\n",
      "          0       0.30      0.10      0.15       107\n",
      "          1       0.50      0.62      0.55       123\n",
      "          2       0.21      0.08      0.11       133\n",
      "          3       0.42      0.70      0.52       205\n",
      "          4       0.38      0.35      0.36       162\n",
      "          5       0.47      0.52      0.50       106\n",
      "          6       0.36      0.35      0.36       164\n",
      "\n",
      "avg / total       0.38      0.41      0.38      1000\n",
      "\n"
     ]
    }
   ],
   "source": [
    "from sklearn.metrics import classification_report\n",
    "print(classification_report(labelsvalid, predicted))"
   ]
  }
 ],
 "metadata": {
  "kernelspec": {
   "display_name": "Python 3",
   "language": "python",
   "name": "python3"
  },
  "language_info": {
   "codemirror_mode": {
    "name": "ipython",
    "version": 3
   },
   "file_extension": ".py",
   "mimetype": "text/x-python",
   "name": "python",
   "nbconvert_exporter": "python",
   "pygments_lexer": "ipython3",
   "version": "3.6.3"
  }
 },
 "nbformat": 4,
 "nbformat_minor": 2
}
