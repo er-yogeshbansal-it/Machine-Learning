{
 "cells": [
  {
   "cell_type": "markdown",
   "metadata": {},
   "source": [
    "# Facial Recognition using Convolutional Neural Network & TensarFlow(GPU)."
   ]
  },
  {
   "cell_type": "markdown",
   "metadata": {},
   "source": [
    "Note : For transfer learning use cnn.json file.(Pre-trained) <br>\n",
    "Importing all dependant packages of python library keras for Convolutional Neural Network, we are using TensarFlow in background.\n"
   ]
  },
  {
   "cell_type": "code",
   "execution_count": 1,
   "metadata": {},
   "outputs": [
    {
     "name": "stderr",
     "output_type": "stream",
     "text": [
      "/home/ec2-user/anaconda3/envs/tensorflow_p36/lib/python3.6/site-packages/matplotlib/__init__.py:1067: UserWarning: Duplicate key in file \"/home/ec2-user/.config/matplotlib/matplotlibrc\", line #2\n",
      "  (fname, cnt))\n",
      "/home/ec2-user/anaconda3/envs/tensorflow_p36/lib/python3.6/site-packages/matplotlib/__init__.py:1067: UserWarning: Duplicate key in file \"/home/ec2-user/.config/matplotlib/matplotlibrc\", line #3\n",
      "  (fname, cnt))\n",
      "/home/ec2-user/anaconda3/envs/tensorflow_p36/lib/python3.6/site-packages/h5py/__init__.py:36: FutureWarning: Conversion of the second argument of issubdtype from `float` to `np.floating` is deprecated. In future, it will be treated as `np.float64 == np.dtype(float).type`.\n",
      "  from ._conv import register_converters as _register_converters\n",
      "Using TensorFlow backend.\n"
     ]
    },
    {
     "name": "stdout",
     "output_type": "stream",
     "text": [
      "CPU times: user 1.76 s, sys: 1.58 s, total: 3.34 s\n",
      "Wall time: 1.6 s\n"
     ]
    }
   ],
   "source": [
    "%%time\n",
    "import pandas as pd\n",
    "import numpy as np\n",
    "import seaborn as sns\n",
    "import matplotlib.pyplot as plt\n",
    "from keras.models import Sequential\n",
    "from keras.models import model_from_json\n",
    "from keras.layers import Dense\n",
    "from keras.layers import Conv2D\n",
    "from keras.layers import Activation\n",
    "from keras.layers import MaxPool2D\n",
    "from keras.layers import Flatten\n",
    "from keras.layers import Dropout\n",
    "from keras.layers import BatchNormalization\n",
    "from keras.utils import np_utils\n",
    "from keras.callbacks import ModelCheckpoint\n",
    "%matplotlib inline"
   ]
  },
  {
   "cell_type": "code",
   "execution_count": 2,
   "metadata": {},
   "outputs": [
    {
     "name": "stdout",
     "output_type": "stream",
     "text": [
      "<class 'pandas.core.frame.DataFrame'>\n",
      "RangeIndex: 35887 entries, 0 to 35886\n",
      "Data columns (total 3 columns):\n",
      "emotion    35887 non-null int64\n",
      "pixels     35887 non-null object\n",
      "Usage      35887 non-null object\n",
      "dtypes: int64(1), object(2)\n",
      "memory usage: 841.2+ KB\n",
      "CPU times: user 2.51 s, sys: 268 ms, total: 2.78 s\n",
      "Wall time: 2.78 s\n"
     ]
    }
   ],
   "source": [
    "%%time\n",
    "data = pd.read_csv(\"fer2013.csv\")\n",
    "data.info(verbose=True)"
   ]
  },
  {
   "cell_type": "code",
   "execution_count": 3,
   "metadata": {},
   "outputs": [
    {
     "name": "stdout",
     "output_type": "stream",
     "text": [
      "CPU times: user 4 ms, sys: 0 ns, total: 4 ms\n",
      "Wall time: 5.72 ms\n"
     ]
    },
    {
     "data": {
      "text/plain": [
       "Training       28709\n",
       "PublicTest      3589\n",
       "PrivateTest     3589\n",
       "Name: Usage, dtype: int64"
      ]
     },
     "execution_count": 3,
     "metadata": {},
     "output_type": "execute_result"
    }
   ],
   "source": [
    "%%time\n",
    "data[\"Usage\"].value_counts()"
   ]
  },
  {
   "cell_type": "code",
   "execution_count": 4,
   "metadata": {},
   "outputs": [
    {
     "name": "stdout",
     "output_type": "stream",
     "text": [
      "CPU times: user 8 ms, sys: 0 ns, total: 8 ms\n",
      "Wall time: 10.2 ms\n"
     ]
    }
   ],
   "source": [
    "%%time\n",
    "# we begin to split the dataset into Training nnd Test\n",
    "tr = data[[\"emotion\", \"pixels\"]][data[\"Usage\"] == \"Training\"] #training set \n",
    "tr.isnull().sum()"
   ]
  },
  {
   "cell_type": "code",
   "execution_count": 5,
   "metadata": {},
   "outputs": [
    {
     "name": "stdout",
     "output_type": "stream",
     "text": [
      "CPU times: user 10.2 s, sys: 400 ms, total: 10.6 s\n",
      "Wall time: 10.6 s\n"
     ]
    }
   ],
   "source": [
    "%%time\n",
    "tr['pixels'] = tr['pixels'].apply(lambda im: np.fromstring(im, sep=' ')) #splitting pixels by space delimiter\n",
    "x_tr = np.vstack(tr['pixels'].values) #storing pixels into x_tr variable\n",
    "y_tr = np.array(tr[\"emotion\"]) #storing emotion into y_tr variable\n",
    "#x_tr.shape, y_tr.shape"
   ]
  },
  {
   "cell_type": "code",
   "execution_count": 6,
   "metadata": {},
   "outputs": [],
   "source": [
    "test_data = data[[\"emotion\", \"pixels\"]][data[\"Usage\"]==\"PublicTest\"] # Now take test dataset,split for PublicTest "
   ]
  },
  {
   "cell_type": "code",
   "execution_count": 7,
   "metadata": {},
   "outputs": [
    {
     "name": "stdout",
     "output_type": "stream",
     "text": [
      "CPU times: user 1.32 s, sys: 44 ms, total: 1.36 s\n",
      "Wall time: 1.36 s\n"
     ]
    }
   ],
   "source": [
    "%%time\n",
    "test_data[\"pixels\"] = test_data[\"pixels\"].apply(lambda im: np.fromstring(im, sep=' ')) #splitting test set pixels by space delimiter \n",
    "x_te = np.vstack(test_data[\"pixels\"].values) #storing pixels into x_te variable\n",
    "y_te = np.array(test_data[\"emotion\"]) #storing emotion into y_te variable"
   ]
  },
  {
   "cell_type": "code",
   "execution_count": 8,
   "metadata": {},
   "outputs": [],
   "source": [
    "# Let's reshape the variable into 48*48 metrix\n",
    "x_tr = x_tr.reshape(-1, 48, 48, 1) #reshaping x_train into 48*48\n",
    "x_te = x_te.reshape(-1, 48, 48, 1) #reshaping x_test into 48*48\n",
    "#x_tr.shape, x_te.shape"
   ]
  },
  {
   "cell_type": "code",
   "execution_count": 9,
   "metadata": {},
   "outputs": [],
   "source": [
    "y_tr = np_utils.to_categorical(y_tr) # converting to categorical values\n",
    "y_te = np_utils.to_categorical(y_te)"
   ]
  },
  {
   "cell_type": "markdown",
   "metadata": {},
   "source": [
    "### Building a model"
   ]
  },
  {
   "cell_type": "markdown",
   "metadata": {},
   "source": [
    "#### The Model follows below structure:<br>\n",
    "`Initiate Module` > `Convolution & Relu layer` > `Max pooling layer` > `Batch Normalization` >`Dropout layer` > `Ddense layer` > `Dropout layer` > `Fully connected dense layer` > `Classifier`\n",
    "\n",
    "\n",
    "![](con.png)\n",
    "Image Ref. = https://blog.dataiku.com/deep-learning-with-dss"
   ]
  },
  {
   "cell_type": "code",
   "execution_count": 10,
   "metadata": {},
   "outputs": [
    {
     "name": "stdout",
     "output_type": "stream",
     "text": [
      "CPU times: user 836 ms, sys: 276 ms, total: 1.11 s\n",
      "Wall time: 1.1 s\n"
     ]
    }
   ],
   "source": [
    "%%time\n",
    "cnn = Sequential()\n",
    "\n",
    "# Now, describe layers, first layer is always convolutional layer \n",
    "\n",
    "cnn.add(Conv2D(64, 3, data_format=\"channels_last\", kernel_initializer=\"he_normal\", \n",
    "                 input_shape=(48, 48, 1))) #Specifying the input shape\n",
    "cnn.add(BatchNormalization()) #Batch normalization layer: normalize the input layer by adjusting and scaling the activations\n",
    "cnn.add(Activation(\"relu\")) # And the Activation function\n",
    "\n",
    "cnn.add(Conv2D(64, 3))\n",
    "cnn.add(BatchNormalization())\n",
    "cnn.add(Activation(\"relu\"))\n",
    "cnn.add(MaxPool2D(pool_size=(2, 2), strides=2)) # down-sample an input representation by reducing its dimensionality\n",
    "cnn.add(Dropout(0.6)) # regularization technique which prevents over-fitting of the network.\n",
    "\n",
    "cnn.add(Conv2D(32, 3)) \n",
    "cnn.add(BatchNormalization())\n",
    "cnn.add(Activation(\"relu\"))\n",
    "\n",
    "cnn.add(Conv2D(32, 3))\n",
    "cnn.add(BatchNormalization())\n",
    "cnn.add(Activation(\"relu\"))\n",
    "\n",
    "cnn.add(Conv2D(32, 3))\n",
    "cnn.add(BatchNormalization())\n",
    "cnn.add(Activation(\"relu\"))\n",
    "cnn.add(MaxPool2D(pool_size=(2, 2), strides=2))\n",
    "cnn.add(Dropout(0.6))\n",
    "\n",
    "#Flattens the input. Does not affect the batch size.\n",
    "cnn.add(Flatten())\n",
    "cnn.add(Dense(128))\n",
    "cnn.add(BatchNormalization())\n",
    "cnn.add(Activation(\"relu\"))\n",
    "cnn.add(Dropout(0.6))\n",
    "\n",
    "cnn.add(Dense(7))\n",
    "cnn.add(Activation('softmax'))\n",
    "#Before training a model, we need to configure the learning process, which we are doing via compile method. \n",
    "#three arguments loss, optimizer, metrics\n",
    "cnn.compile(loss='categorical_crossentropy', optimizer='adam', metrics=['accuracy'])"
   ]
  },
  {
   "cell_type": "code",
   "execution_count": 11,
   "metadata": {},
   "outputs": [
    {
     "name": "stdout",
     "output_type": "stream",
     "text": [
      "Train on 28709 samples, validate on 3589 samples\n",
      "Epoch 1/100\n",
      " - 20s - loss: 1.9774 - acc: 0.2622 - val_loss: 1.5909 - val_acc: 0.3945\n",
      "\n",
      "Epoch 00001: val_loss improved from inf to 1.59092, saving model to checkpoint_weights.h5\n",
      "Epoch 2/100\n",
      " - 17s - loss: 1.6410 - acc: 0.3570 - val_loss: 1.4860 - val_acc: 0.4296\n",
      "\n",
      "Epoch 00002: val_loss improved from 1.59092 to 1.48601, saving model to checkpoint_weights.h5\n",
      "Epoch 3/100\n",
      " - 17s - loss: 1.5285 - acc: 0.4047 - val_loss: 1.4232 - val_acc: 0.4458\n",
      "\n",
      "Epoch 00003: val_loss improved from 1.48601 to 1.42320, saving model to checkpoint_weights.h5\n",
      "Epoch 4/100\n",
      " - 17s - loss: 1.4531 - acc: 0.4393 - val_loss: 1.3705 - val_acc: 0.4681\n",
      "\n",
      "Epoch 00004: val_loss improved from 1.42320 to 1.37047, saving model to checkpoint_weights.h5\n",
      "Epoch 5/100\n",
      " - 17s - loss: 1.4044 - acc: 0.4607 - val_loss: 1.3018 - val_acc: 0.4946\n",
      "\n",
      "Epoch 00005: val_loss improved from 1.37047 to 1.30184, saving model to checkpoint_weights.h5\n",
      "Epoch 6/100\n",
      " - 17s - loss: 1.3603 - acc: 0.4779 - val_loss: 1.3045 - val_acc: 0.4929\n",
      "\n",
      "Epoch 00006: val_loss did not improve\n",
      "Epoch 7/100\n",
      " - 17s - loss: 1.3297 - acc: 0.4862 - val_loss: 1.2456 - val_acc: 0.5244\n",
      "\n",
      "Epoch 00007: val_loss improved from 1.30184 to 1.24556, saving model to checkpoint_weights.h5\n",
      "Epoch 8/100\n",
      " - 17s - loss: 1.3087 - acc: 0.4955 - val_loss: 1.2263 - val_acc: 0.5316\n",
      "\n",
      "Epoch 00008: val_loss improved from 1.24556 to 1.22628, saving model to checkpoint_weights.h5\n",
      "Epoch 9/100\n",
      " - 17s - loss: 1.2839 - acc: 0.5095 - val_loss: 1.2296 - val_acc: 0.5266\n",
      "\n",
      "Epoch 00009: val_loss did not improve\n",
      "Epoch 10/100\n",
      " - 17s - loss: 1.2644 - acc: 0.5162 - val_loss: 1.2005 - val_acc: 0.5408\n",
      "\n",
      "Epoch 00010: val_loss improved from 1.22628 to 1.20046, saving model to checkpoint_weights.h5\n",
      "Epoch 11/100\n",
      " - 17s - loss: 1.2466 - acc: 0.5211 - val_loss: 1.2272 - val_acc: 0.5361\n",
      "\n",
      "Epoch 00011: val_loss did not improve\n",
      "Epoch 12/100\n",
      " - 17s - loss: 1.2372 - acc: 0.5275 - val_loss: 1.2067 - val_acc: 0.5247\n",
      "\n",
      "Epoch 00012: val_loss did not improve\n",
      "Epoch 13/100\n",
      " - 17s - loss: 1.2141 - acc: 0.5379 - val_loss: 1.1615 - val_acc: 0.5564\n",
      "\n",
      "Epoch 00013: val_loss improved from 1.20046 to 1.16145, saving model to checkpoint_weights.h5\n",
      "Epoch 14/100\n",
      " - 17s - loss: 1.2133 - acc: 0.5376 - val_loss: 1.1487 - val_acc: 0.5634\n",
      "\n",
      "Epoch 00014: val_loss improved from 1.16145 to 1.14872, saving model to checkpoint_weights.h5\n",
      "Epoch 15/100\n",
      " - 17s - loss: 1.1931 - acc: 0.5430 - val_loss: 1.1842 - val_acc: 0.5472\n",
      "\n",
      "Epoch 00015: val_loss did not improve\n",
      "Epoch 16/100\n",
      " - 17s - loss: 1.1883 - acc: 0.5495 - val_loss: 1.1624 - val_acc: 0.5528\n",
      "\n",
      "Epoch 00016: val_loss did not improve\n",
      "Epoch 17/100\n",
      " - 17s - loss: 1.1724 - acc: 0.5574 - val_loss: 1.1157 - val_acc: 0.5690\n",
      "\n",
      "Epoch 00017: val_loss improved from 1.14872 to 1.11565, saving model to checkpoint_weights.h5\n",
      "Epoch 18/100\n",
      " - 17s - loss: 1.1654 - acc: 0.5599 - val_loss: 1.1764 - val_acc: 0.5469\n",
      "\n",
      "Epoch 00018: val_loss did not improve\n",
      "Epoch 19/100\n",
      " - 17s - loss: 1.1553 - acc: 0.5632 - val_loss: 1.1121 - val_acc: 0.5695\n",
      "\n",
      "Epoch 00019: val_loss improved from 1.11565 to 1.11209, saving model to checkpoint_weights.h5\n",
      "Epoch 20/100\n",
      " - 17s - loss: 1.1465 - acc: 0.5655 - val_loss: 1.1226 - val_acc: 0.5729\n",
      "\n",
      "Epoch 00020: val_loss did not improve\n",
      "Epoch 21/100\n",
      " - 17s - loss: 1.1438 - acc: 0.5670 - val_loss: 1.1225 - val_acc: 0.5734\n",
      "\n",
      "Epoch 00021: val_loss did not improve\n",
      "Epoch 22/100\n",
      " - 17s - loss: 1.1315 - acc: 0.5688 - val_loss: 1.0939 - val_acc: 0.5815\n",
      "\n",
      "Epoch 00022: val_loss improved from 1.11209 to 1.09392, saving model to checkpoint_weights.h5\n",
      "Epoch 23/100\n",
      " - 17s - loss: 1.1257 - acc: 0.5734 - val_loss: 1.0799 - val_acc: 0.5862\n",
      "\n",
      "Epoch 00023: val_loss improved from 1.09392 to 1.07988, saving model to checkpoint_weights.h5\n",
      "Epoch 24/100\n",
      " - 17s - loss: 1.1225 - acc: 0.5747 - val_loss: 1.1067 - val_acc: 0.5818\n",
      "\n",
      "Epoch 00024: val_loss did not improve\n",
      "Epoch 25/100\n",
      " - 17s - loss: 1.1098 - acc: 0.5778 - val_loss: 1.0892 - val_acc: 0.5896\n",
      "\n",
      "Epoch 00025: val_loss did not improve\n",
      "Epoch 26/100\n",
      " - 17s - loss: 1.1086 - acc: 0.5812 - val_loss: 1.0722 - val_acc: 0.5901\n",
      "\n",
      "Epoch 00026: val_loss improved from 1.07988 to 1.07225, saving model to checkpoint_weights.h5\n",
      "Epoch 27/100\n",
      " - 17s - loss: 1.0956 - acc: 0.5862 - val_loss: 1.1072 - val_acc: 0.5787\n",
      "\n",
      "Epoch 00027: val_loss did not improve\n",
      "Epoch 28/100\n",
      " - 17s - loss: 1.0937 - acc: 0.5851 - val_loss: 1.0884 - val_acc: 0.5821\n",
      "\n",
      "Epoch 00028: val_loss did not improve\n",
      "Epoch 29/100\n",
      " - 17s - loss: 1.0898 - acc: 0.5870 - val_loss: 1.0958 - val_acc: 0.5885\n",
      "\n",
      "Epoch 00029: val_loss did not improve\n",
      "Epoch 30/100\n",
      " - 17s - loss: 1.0828 - acc: 0.5917 - val_loss: 1.0718 - val_acc: 0.5904\n",
      "\n",
      "Epoch 00030: val_loss improved from 1.07225 to 1.07183, saving model to checkpoint_weights.h5\n",
      "Epoch 31/100\n",
      " - 17s - loss: 1.0830 - acc: 0.5880 - val_loss: 1.0739 - val_acc: 0.5929\n",
      "\n",
      "Epoch 00031: val_loss did not improve\n",
      "Epoch 32/100\n",
      " - 17s - loss: 1.0762 - acc: 0.5920 - val_loss: 1.1255 - val_acc: 0.5795\n",
      "\n",
      "Epoch 00032: val_loss did not improve\n",
      "Epoch 33/100\n",
      " - 17s - loss: 1.0741 - acc: 0.5954 - val_loss: 1.0784 - val_acc: 0.5974\n",
      "\n",
      "Epoch 00033: val_loss did not improve\n",
      "Epoch 34/100\n",
      " - 17s - loss: 1.0742 - acc: 0.5947 - val_loss: 1.0617 - val_acc: 0.5982\n",
      "\n",
      "Epoch 00034: val_loss improved from 1.07183 to 1.06173, saving model to checkpoint_weights.h5\n",
      "Epoch 35/100\n",
      " - 17s - loss: 1.0668 - acc: 0.5960 - val_loss: 1.0595 - val_acc: 0.5943\n",
      "\n",
      "Epoch 00035: val_loss improved from 1.06173 to 1.05945, saving model to checkpoint_weights.h5\n",
      "Epoch 36/100\n",
      " - 17s - loss: 1.0580 - acc: 0.6025 - val_loss: 1.0915 - val_acc: 0.5874\n",
      "\n",
      "Epoch 00036: val_loss did not improve\n",
      "Epoch 37/100\n",
      " - 17s - loss: 1.0569 - acc: 0.5996 - val_loss: 1.0519 - val_acc: 0.6066\n",
      "\n",
      "Epoch 00037: val_loss improved from 1.05945 to 1.05189, saving model to checkpoint_weights.h5\n",
      "Epoch 38/100\n",
      " - 17s - loss: 1.0604 - acc: 0.6005 - val_loss: 1.0465 - val_acc: 0.6043\n",
      "\n",
      "Epoch 00038: val_loss improved from 1.05189 to 1.04647, saving model to checkpoint_weights.h5\n",
      "Epoch 39/100\n",
      " - 17s - loss: 1.0536 - acc: 0.6021 - val_loss: 1.0903 - val_acc: 0.5913\n",
      "\n",
      "Epoch 00039: val_loss did not improve\n",
      "Epoch 40/100\n",
      " - 17s - loss: 1.0434 - acc: 0.6044 - val_loss: 1.0405 - val_acc: 0.6105\n",
      "\n",
      "Epoch 00040: val_loss improved from 1.04647 to 1.04053, saving model to checkpoint_weights.h5\n",
      "Epoch 41/100\n",
      " - 17s - loss: 1.0401 - acc: 0.6042 - val_loss: 1.0365 - val_acc: 0.6027\n",
      "\n",
      "Epoch 00041: val_loss improved from 1.04053 to 1.03647, saving model to checkpoint_weights.h5\n",
      "Epoch 42/100\n",
      " - 17s - loss: 1.0432 - acc: 0.6076 - val_loss: 1.0381 - val_acc: 0.6080\n",
      "\n",
      "Epoch 00042: val_loss did not improve\n",
      "Epoch 43/100\n",
      " - 17s - loss: 1.0353 - acc: 0.6070 - val_loss: 1.0601 - val_acc: 0.5977\n",
      "\n",
      "Epoch 00043: val_loss did not improve\n",
      "Epoch 44/100\n",
      " - 17s - loss: 1.0290 - acc: 0.6113 - val_loss: 1.0385 - val_acc: 0.6066\n",
      "\n",
      "Epoch 00044: val_loss did not improve\n",
      "Epoch 45/100\n",
      " - 17s - loss: 1.0273 - acc: 0.6111 - val_loss: 1.0296 - val_acc: 0.6174\n",
      "\n",
      "Epoch 00045: val_loss improved from 1.03647 to 1.02955, saving model to checkpoint_weights.h5\n",
      "Epoch 46/100\n",
      " - 17s - loss: 1.0167 - acc: 0.6133 - val_loss: 1.0274 - val_acc: 0.6155\n",
      "\n",
      "Epoch 00046: val_loss improved from 1.02955 to 1.02738, saving model to checkpoint_weights.h5\n",
      "Epoch 47/100\n",
      " - 17s - loss: 1.0251 - acc: 0.6113 - val_loss: 1.0325 - val_acc: 0.6138\n",
      "\n",
      "Epoch 00047: val_loss did not improve\n",
      "Epoch 48/100\n",
      " - 17s - loss: 1.0180 - acc: 0.6150 - val_loss: 1.0374 - val_acc: 0.6121\n",
      "\n",
      "Epoch 00048: val_loss did not improve\n",
      "Epoch 49/100\n",
      " - 17s - loss: 1.0196 - acc: 0.6149 - val_loss: 1.0521 - val_acc: 0.6060\n",
      "\n",
      "Epoch 00049: val_loss did not improve\n",
      "Epoch 50/100\n",
      " - 17s - loss: 1.0134 - acc: 0.6141 - val_loss: 1.0592 - val_acc: 0.5982\n",
      "\n",
      "Epoch 00050: val_loss did not improve\n",
      "Epoch 51/100\n",
      " - 17s - loss: 1.0104 - acc: 0.6186 - val_loss: 1.0379 - val_acc: 0.6080\n",
      "\n",
      "Epoch 00051: val_loss did not improve\n",
      "Epoch 52/100\n",
      " - 17s - loss: 1.0188 - acc: 0.6165 - val_loss: 1.0670 - val_acc: 0.5971\n",
      "\n",
      "Epoch 00052: val_loss did not improve\n",
      "Epoch 53/100\n",
      " - 17s - loss: 1.0078 - acc: 0.6208 - val_loss: 1.0403 - val_acc: 0.6116\n",
      "\n",
      "Epoch 00053: val_loss did not improve\n",
      "Epoch 54/100\n",
      " - 17s - loss: 1.0045 - acc: 0.6205 - val_loss: 1.0388 - val_acc: 0.6188\n",
      "\n",
      "Epoch 00054: val_loss did not improve\n",
      "Epoch 55/100\n",
      " - 17s - loss: 1.0097 - acc: 0.6221 - val_loss: 1.0302 - val_acc: 0.6219\n"
     ]
    },
    {
     "name": "stdout",
     "output_type": "stream",
     "text": [
      "\n",
      "Epoch 00055: val_loss did not improve\n",
      "Epoch 56/100\n",
      " - 17s - loss: 1.0078 - acc: 0.6168 - val_loss: 1.0691 - val_acc: 0.5946\n",
      "\n",
      "Epoch 00056: val_loss did not improve\n",
      "Epoch 57/100\n",
      " - 17s - loss: 0.9982 - acc: 0.6218 - val_loss: 1.0301 - val_acc: 0.6099\n",
      "\n",
      "Epoch 00057: val_loss did not improve\n",
      "Epoch 58/100\n",
      " - 17s - loss: 0.9947 - acc: 0.6240 - val_loss: 1.0555 - val_acc: 0.5968\n",
      "\n",
      "Epoch 00058: val_loss did not improve\n",
      "Epoch 59/100\n",
      " - 17s - loss: 0.9950 - acc: 0.6230 - val_loss: 1.0724 - val_acc: 0.5957\n",
      "\n",
      "Epoch 00059: val_loss did not improve\n",
      "Epoch 60/100\n",
      " - 17s - loss: 0.9944 - acc: 0.6230 - val_loss: 1.0272 - val_acc: 0.6183\n",
      "\n",
      "Epoch 00060: val_loss improved from 1.02738 to 1.02724, saving model to checkpoint_weights.h5\n",
      "Epoch 61/100\n",
      " - 17s - loss: 0.9895 - acc: 0.6290 - val_loss: 1.0233 - val_acc: 0.6110\n",
      "\n",
      "Epoch 00061: val_loss improved from 1.02724 to 1.02329, saving model to checkpoint_weights.h5\n",
      "Epoch 62/100\n",
      " - 17s - loss: 0.9882 - acc: 0.6268 - val_loss: 1.0292 - val_acc: 0.6108\n",
      "\n",
      "Epoch 00062: val_loss did not improve\n",
      "Epoch 63/100\n",
      " - 17s - loss: 0.9874 - acc: 0.6257 - val_loss: 1.0227 - val_acc: 0.6155\n",
      "\n",
      "Epoch 00063: val_loss improved from 1.02329 to 1.02266, saving model to checkpoint_weights.h5\n",
      "Epoch 64/100\n",
      " - 17s - loss: 0.9830 - acc: 0.6276 - val_loss: 1.0496 - val_acc: 0.6135\n",
      "\n",
      "Epoch 00064: val_loss did not improve\n",
      "Epoch 65/100\n",
      " - 17s - loss: 0.9901 - acc: 0.6256 - val_loss: 1.0280 - val_acc: 0.6186\n",
      "\n",
      "Epoch 00065: val_loss did not improve\n",
      "Epoch 66/100\n",
      " - 17s - loss: 0.9865 - acc: 0.6268 - val_loss: 1.0113 - val_acc: 0.6236\n",
      "\n",
      "Epoch 00066: val_loss improved from 1.02266 to 1.01132, saving model to checkpoint_weights.h5\n",
      "Epoch 67/100\n",
      " - 17s - loss: 0.9845 - acc: 0.6289 - val_loss: 1.0330 - val_acc: 0.6160\n",
      "\n",
      "Epoch 00067: val_loss did not improve\n",
      "Epoch 68/100\n",
      " - 17s - loss: 0.9768 - acc: 0.6326 - val_loss: 1.0533 - val_acc: 0.6099\n",
      "\n",
      "Epoch 00068: val_loss did not improve\n",
      "Epoch 69/100\n",
      " - 17s - loss: 0.9838 - acc: 0.6263 - val_loss: 1.0462 - val_acc: 0.6133\n",
      "\n",
      "Epoch 00069: val_loss did not improve\n",
      "Epoch 70/100\n",
      " - 17s - loss: 0.9747 - acc: 0.6339 - val_loss: 1.0247 - val_acc: 0.6119\n",
      "\n",
      "Epoch 00070: val_loss did not improve\n",
      "Epoch 71/100\n",
      " - 17s - loss: 0.9778 - acc: 0.6317 - val_loss: 1.0511 - val_acc: 0.6169\n",
      "\n",
      "Epoch 00071: val_loss did not improve\n",
      "Epoch 72/100\n",
      " - 17s - loss: 0.9683 - acc: 0.6273 - val_loss: 1.0194 - val_acc: 0.6247\n",
      "\n",
      "Epoch 00072: val_loss did not improve\n",
      "Epoch 73/100\n",
      " - 17s - loss: 0.9708 - acc: 0.6318 - val_loss: 1.0399 - val_acc: 0.6046\n",
      "\n",
      "Epoch 00073: val_loss did not improve\n",
      "Epoch 74/100\n",
      " - 17s - loss: 0.9749 - acc: 0.6334 - val_loss: 1.0714 - val_acc: 0.5979\n",
      "\n",
      "Epoch 00074: val_loss did not improve\n",
      "Epoch 75/100\n",
      " - 17s - loss: 0.9683 - acc: 0.6334 - val_loss: 1.0463 - val_acc: 0.6099\n",
      "\n",
      "Epoch 00075: val_loss did not improve\n",
      "Epoch 76/100\n",
      " - 17s - loss: 0.9622 - acc: 0.6357 - val_loss: 1.0179 - val_acc: 0.6135\n",
      "\n",
      "Epoch 00076: val_loss did not improve\n",
      "Epoch 77/100\n",
      " - 17s - loss: 0.9653 - acc: 0.6347 - val_loss: 1.0096 - val_acc: 0.6230\n",
      "\n",
      "Epoch 00077: val_loss improved from 1.01132 to 1.00958, saving model to checkpoint_weights.h5\n",
      "Epoch 78/100\n",
      " - 17s - loss: 0.9674 - acc: 0.6329 - val_loss: 1.0375 - val_acc: 0.6166\n",
      "\n",
      "Epoch 00078: val_loss did not improve\n",
      "Epoch 79/100\n",
      " - 17s - loss: 0.9645 - acc: 0.6341 - val_loss: 1.0390 - val_acc: 0.6074\n",
      "\n",
      "Epoch 00079: val_loss did not improve\n",
      "Epoch 80/100\n",
      " - 17s - loss: 0.9628 - acc: 0.6366 - val_loss: 1.0238 - val_acc: 0.6191\n",
      "\n",
      "Epoch 00080: val_loss did not improve\n",
      "Epoch 81/100\n",
      " - 17s - loss: 0.9664 - acc: 0.6362 - val_loss: 1.0368 - val_acc: 0.6149\n",
      "\n",
      "Epoch 00081: val_loss did not improve\n",
      "Epoch 82/100\n",
      " - 17s - loss: 0.9580 - acc: 0.6398 - val_loss: 1.0350 - val_acc: 0.6202\n",
      "\n",
      "Epoch 00082: val_loss did not improve\n",
      "Epoch 83/100\n",
      " - 17s - loss: 0.9529 - acc: 0.6364 - val_loss: 1.0193 - val_acc: 0.6275\n",
      "\n",
      "Epoch 00083: val_loss did not improve\n",
      "Epoch 84/100\n",
      " - 17s - loss: 0.9525 - acc: 0.6389 - val_loss: 1.0336 - val_acc: 0.6211\n",
      "\n",
      "Epoch 00084: val_loss did not improve\n",
      "Epoch 85/100\n",
      " - 17s - loss: 0.9495 - acc: 0.6360 - val_loss: 1.0321 - val_acc: 0.6264\n",
      "\n",
      "Epoch 00085: val_loss did not improve\n",
      "Epoch 86/100\n",
      " - 17s - loss: 0.9569 - acc: 0.6389 - val_loss: 1.0136 - val_acc: 0.6188\n",
      "\n",
      "Epoch 00086: val_loss did not improve\n",
      "Epoch 87/100\n",
      " - 17s - loss: 0.9503 - acc: 0.6409 - val_loss: 1.0229 - val_acc: 0.6225\n",
      "\n",
      "Epoch 00087: val_loss did not improve\n",
      "Epoch 88/100\n",
      " - 17s - loss: 0.9566 - acc: 0.6391 - val_loss: 1.0473 - val_acc: 0.6074\n",
      "\n",
      "Epoch 00088: val_loss did not improve\n",
      "Epoch 89/100\n",
      " - 17s - loss: 0.9483 - acc: 0.6418 - val_loss: 1.0225 - val_acc: 0.6199\n",
      "\n",
      "Epoch 00089: val_loss did not improve\n",
      "Epoch 90/100\n",
      " - 17s - loss: 0.9579 - acc: 0.6357 - val_loss: 1.0015 - val_acc: 0.6297\n",
      "\n",
      "Epoch 00090: val_loss improved from 1.00958 to 1.00152, saving model to checkpoint_weights.h5\n",
      "Epoch 91/100\n",
      " - 17s - loss: 0.9544 - acc: 0.6383 - val_loss: 1.0165 - val_acc: 0.6208\n",
      "\n",
      "Epoch 00091: val_loss did not improve\n",
      "Epoch 92/100\n",
      " - 17s - loss: 0.9539 - acc: 0.6377 - val_loss: 1.0334 - val_acc: 0.6141\n",
      "\n",
      "Epoch 00092: val_loss did not improve\n",
      "Epoch 93/100\n",
      " - 17s - loss: 0.9408 - acc: 0.6448 - val_loss: 1.0266 - val_acc: 0.6177\n",
      "\n",
      "Epoch 00093: val_loss did not improve\n",
      "Epoch 94/100\n",
      " - 17s - loss: 0.9424 - acc: 0.6413 - val_loss: 1.0191 - val_acc: 0.6266\n",
      "\n",
      "Epoch 00094: val_loss did not improve\n",
      "Epoch 95/100\n",
      " - 17s - loss: 0.9499 - acc: 0.6381 - val_loss: 1.0472 - val_acc: 0.6169\n",
      "\n",
      "Epoch 00095: val_loss did not improve\n",
      "Epoch 96/100\n",
      " - 17s - loss: 0.9426 - acc: 0.6434 - val_loss: 1.0227 - val_acc: 0.6211\n",
      "\n",
      "Epoch 00096: val_loss did not improve\n",
      "Epoch 97/100\n",
      " - 17s - loss: 0.9380 - acc: 0.6447 - val_loss: 1.0122 - val_acc: 0.6269\n",
      "\n",
      "Epoch 00097: val_loss did not improve\n",
      "Epoch 98/100\n",
      " - 17s - loss: 0.9440 - acc: 0.6427 - val_loss: 1.0079 - val_acc: 0.6255\n",
      "\n",
      "Epoch 00098: val_loss did not improve\n",
      "Epoch 99/100\n",
      " - 17s - loss: 0.9376 - acc: 0.6481 - val_loss: 1.0385 - val_acc: 0.6149\n",
      "\n",
      "Epoch 00099: val_loss did not improve\n",
      "Epoch 100/100\n",
      " - 17s - loss: 0.9380 - acc: 0.6461 - val_loss: 1.0035 - val_acc: 0.6258\n",
      "\n",
      "Epoch 00100: val_loss did not improve\n",
      "CPU times: user 23min 16s, sys: 6min 46s, total: 30min 3s\n",
      "Wall time: 28min 54s\n"
     ]
    }
   ],
   "source": [
    "%%time\n",
    "# now, create a checkpoint and shave all the best weights\n",
    "save_weights = ModelCheckpoint(filepath='checkpoint_weights.h5', verbose=1, save_best_only=True)\n",
    "epochs = 100\n",
    "\n",
    "# run the model\n",
    "runm = cnn.fit(x_tr, y_tr, epochs=epochs,\n",
    "                 shuffle=True,\n",
    "                 batch_size=100, validation_data=(x_te, y_te),\n",
    "                 callbacks=[save_weights], verbose=2)\n",
    "\n",
    "# This is the most important part, as model takes long time to train, we saved model to the json file which can be used as transfered learning so that we can use it next time without need to train the model again\n",
    "cnn_json = cnn.to_json()\n",
    "with open(\"cnn.json\", \"w\") as json_file:\n",
    "    json_file.write(cnn_json)"
   ]
  },
  {
   "cell_type": "code",
   "execution_count": 12,
   "metadata": {},
   "outputs": [
    {
     "data": {
      "image/png": "[encoded data removed]",
      "text/plain": [
       "<Figure size 1008x216 with 2 Axes>"
      ]
     },
     "metadata": {},
     "output_type": "display_data"
    }
   ],
   "source": [
    "#plotting Loss\n",
    "plt.figure(figsize=(14,3))\n",
    "plt.subplot(1, 2, 1)\n",
    "plt.suptitle('Optimizer : Adam', fontsize=10)\n",
    "plt.ylabel('Loss', fontsize=16)\n",
    "plt.plot(runm.history['loss'], color='b', label='Training Loss')\n",
    "plt.plot(runm.history['val_loss'], color='r', label='Validation Loss')\n",
    "plt.legend(loc='upper right')\n",
    "\n",
    "#plotting accuracy\n",
    "plt.subplot(1, 2, 2)\n",
    "plt.ylabel('Accuracy', fontsize=16)\n",
    "plt.plot(runm.history['acc'], color='b', label='Training Accuracy')\n",
    "plt.plot(runm.history['val_acc'], color='r', label='Validation Accuracy')\n",
    "plt.legend(loc='lower right')\n",
    "plt.show()"
   ]
  },
  {
   "cell_type": "code",
   "execution_count": 13,
   "metadata": {},
   "outputs": [
    {
     "data": {
      "text/html": [
       "<div>\n",
       "<style scoped>\n",
       "    .dataframe tbody tr th:only-of-type {\n",
       "        vertical-align: middle;\n",
       "    }\n",
       "\n",
       "    .dataframe tbody tr th {\n",
       "        vertical-align: top;\n",
       "    }\n",
       "\n",
       "    .dataframe thead th {\n",
       "        text-align: right;\n",
       "    }\n",
       "</style>\n",
       "<table border=\"1\" class=\"dataframe\">\n",
       "  <thead>\n",
       "    <tr style=\"text-align: right;\">\n",
       "      <th></th>\n",
       "      <th>emotion</th>\n",
       "      <th>pixels</th>\n",
       "    </tr>\n",
       "  </thead>\n",
       "  <tbody>\n",
       "    <tr>\n",
       "      <th>32298</th>\n",
       "      <td>0</td>\n",
       "      <td>[170.0, 118.0, 101.0, 88.0, 88.0, 75.0, 78.0, ...</td>\n",
       "    </tr>\n",
       "    <tr>\n",
       "      <th>32299</th>\n",
       "      <td>5</td>\n",
       "      <td>[7.0, 5.0, 8.0, 6.0, 7.0, 3.0, 2.0, 6.0, 5.0, ...</td>\n",
       "    </tr>\n",
       "    <tr>\n",
       "      <th>32300</th>\n",
       "      <td>6</td>\n",
       "      <td>[232.0, 240.0, 241.0, 239.0, 237.0, 235.0, 246...</td>\n",
       "    </tr>\n",
       "    <tr>\n",
       "      <th>32301</th>\n",
       "      <td>4</td>\n",
       "      <td>[200.0, 197.0, 149.0, 139.0, 156.0, 89.0, 111....</td>\n",
       "    </tr>\n",
       "    <tr>\n",
       "      <th>32302</th>\n",
       "      <td>2</td>\n",
       "      <td>[40.0, 28.0, 33.0, 56.0, 45.0, 33.0, 31.0, 78....</td>\n",
       "    </tr>\n",
       "  </tbody>\n",
       "</table>\n",
       "</div>"
      ],
      "text/plain": [
       "       emotion                                             pixels\n",
       "32298        0  [170.0, 118.0, 101.0, 88.0, 88.0, 75.0, 78.0, ...\n",
       "32299        5  [7.0, 5.0, 8.0, 6.0, 7.0, 3.0, 2.0, 6.0, 5.0, ...\n",
       "32300        6  [232.0, 240.0, 241.0, 239.0, 237.0, 235.0, 246...\n",
       "32301        4  [200.0, 197.0, 149.0, 139.0, 156.0, 89.0, 111....\n",
       "32302        2  [40.0, 28.0, 33.0, 56.0, 45.0, 33.0, 31.0, 78...."
      ]
     },
     "execution_count": 13,
     "metadata": {},
     "output_type": "execute_result"
    }
   ],
   "source": [
    "# test the model on test set\n",
    "run_te = data[[\"emotion\", \"pixels\"]][data[\"Usage\"] == \"PrivateTest\"]\n",
    "run_te[\"pixels\"] = run_te[\"pixels\"].apply(lambda im: np.fromstring(im, sep=' '))\n",
    "run_te.head()"
   ]
  },
  {
   "cell_type": "code",
   "execution_count": 14,
   "metadata": {},
   "outputs": [],
   "source": [
    "# calculating the scores\n",
    "x_te_score = np.vstack(run_te[\"pixels\"].values)\n",
    "y_te_score = np.array(run_te[\"emotion\"])"
   ]
  },
  {
   "cell_type": "code",
   "execution_count": 15,
   "metadata": {},
   "outputs": [
    {
     "data": {
      "text/plain": [
       "((3589, 48, 48, 1), (3589, 7))"
      ]
     },
     "execution_count": 15,
     "metadata": {},
     "output_type": "execute_result"
    }
   ],
   "source": [
    "x_te_score = x_te_score.reshape(-1, 48, 48, 1)\n",
    "y_te_score = np_utils.to_categorical(y_te_score)\n",
    "x_te_score.shape, y_te_score.shape"
   ]
  },
  {
   "cell_type": "code",
   "execution_count": 16,
   "metadata": {},
   "outputs": [
    {
     "name": "stdout",
     "output_type": "stream",
     "text": [
      "3589/3589 [==============================] - 1s 264us/step\n"
     ]
    },
    {
     "data": {
      "text/plain": [
       "[0.985946317176096, 0.6336026748480921]"
      ]
     },
     "execution_count": 16,
     "metadata": {},
     "output_type": "execute_result"
    }
   ],
   "source": [
    "score = cnn.evaluate(x_te_score, y_te_score)\n",
    "score"
   ]
  },
  {
   "cell_type": "code",
   "execution_count": 17,
   "metadata": {},
   "outputs": [
    {
     "name": "stdout",
     "output_type": "stream",
     "text": [
      "Score :  0.985946317176096\n",
      "Accuracy :  63.36026748480921\n"
     ]
    }
   ],
   "source": [
    "print( \"Score : \", score[0])\n",
    "print (\"Accuracy : \", score[1]*100)"
   ]
  },
  {
   "cell_type": "code",
   "execution_count": 18,
   "metadata": {},
   "outputs": [
    {
     "data": {
      "image/png": "[encoded data removed]",
      "text/plain": [
       "<Figure size 864x432 with 12 Axes>"
      ]
     },
     "metadata": {},
     "output_type": "display_data"
    },
    {
     "name": "stdout",
     "output_type": "stream",
     "text": [
      "CPU times: user 476 ms, sys: 352 ms, total: 828 ms\n",
      "Wall time: 395 ms\n"
     ]
    }
   ],
   "source": [
    "%%time\n",
    "# Lets display some images here,\n",
    "plt.figure(0, figsize=(12,6))\n",
    "for i in range(1, 13):\n",
    "    plt.subplot(3,4,i)\n",
    "    plt.imshow(x_tr[i, :, :, 0], cmap=\"gray\") # now lets display images from dataset\n",
    "    plt.axis('off')\n",
    "plt.show()"
   ]
  },
  {
   "cell_type": "markdown",
   "metadata": {},
   "source": [
    "#### API references for CNN: "
   ]
  },
  {
   "cell_type": "markdown",
   "metadata": {},
   "source": [
    "1. Keras Sequential model: https://keras.io/getting-started/sequential-model-guide/\n",
    "2. Dropout : https://keras.io/layers/core/#dropout\n",
    "3. Conv2D : https://keras.io/layers/convolutional/#convolution2d\n",
    "4. MaxPool2D : https://keras.io/layers/pooling/#maxpooling2d\n",
    "5. Dense : https://keras.io/layers/core/#dense\n",
    "6. Flatten : https://keras.io/layers/core/#flatten\n"
   ]
  },
  {
   "cell_type": "code",
   "execution_count": null,
   "metadata": {},
   "outputs": [],
   "source": []
  }
 ],
 "metadata": {
  "kernelspec": {
   "display_name": "Environment (conda_tensorflow_p36)",
   "language": "python",
   "name": "conda_tensorflow_p36"
  },
  "language_info": {
   "codemirror_mode": {
    "name": "ipython",
    "version": 3
   },
   "file_extension": ".py",
   "mimetype": "text/x-python",
   "name": "python",
   "nbconvert_exporter": "python",
   "pygments_lexer": "ipython3",
   "version": "3.6.4"
  }
 },
 "nbformat": 4,
 "nbformat_minor": 2
}
